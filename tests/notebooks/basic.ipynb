{
 "cells": [
  {
   "cell_type": "markdown",
   "metadata": {},
   "source": [
    "# Report title\n",
    "\n",
    "Lorem ipsum dolor amet lumbersexual cold-pressed cardigan listicle intelligentsia offal gluten-free etsy lyft four dollar toast aesthetic flexitarian tote bag typewriter. Jianbing aesthetic semiotics 8-bit, lumbersexual tilde kitsch quinoa gentrify salvia chillwave brooklyn. Live-edge blue bottle VHS shabby chic tote bag tumeric offal intelligentsia, organic edison bulb drinking vinegar leggings. Selvage shabby chic art party meh irony, prism gochujang pour-over 3 wolf moon iceland 90's. [Kickstarter](https://kickstarter.com) microdosing hella farm-to-table. Whatever polaroid art party brooklyn everyday carry beard palo santo blue bottle authentic knausgaard XOXO hoodie gentrify woke mixtape.\n",
    "\n",
    "Fingerstache 3 wolf moon normcore, yr paleo chartreuse roof party sustainable PBR&B organic meggings schlitz chia keytar hexagon. Squid yuccie polaroid, la croix direct trade unicorn copper mug before they sold out actually af meh cred banjo. Vaporware selvage bushwick gluten-free shaman small batch tacos tousled freegan cold-pressed roof party intelligentsia kickstarter art party. Gastropub authentic flannel yuccie cray vinyl offal heirloom. Etsy coloring book forage, next level chillwave snackwave cronut. Shoreditch pork belly wayfarers, knausgaard normcore ugh offal man braid vinyl. Hashtag gochujang live-edge kickstarter narwhal vice, hot chicken iPhone pour-over."
   ]
  },
  {
   "cell_type": "code",
   "execution_count": 1,
   "metadata": {},
   "outputs": [
    {
     "name": "stdout",
     "output_type": "stream",
     "text": [
      "The Zen of Python, by Tim Peters\n",
      "\n",
      "Beautiful is better than ugly.\n",
      "Explicit is better than implicit.\n",
      "Simple is better than complex.\n",
      "Complex is better than complicated.\n",
      "Flat is better than nested.\n",
      "Sparse is better than dense.\n",
      "Readability counts.\n",
      "Special cases aren't special enough to break the rules.\n",
      "Although practicality beats purity.\n",
      "Errors should never pass silently.\n",
      "Unless explicitly silenced.\n",
      "In the face of ambiguity, refuse the temptation to guess.\n",
      "There should be one-- and preferably only one --obvious way to do it.\n",
      "Although that way may not be obvious at first unless you're Dutch.\n",
      "Now is better than never.\n",
      "Although never is often better than *right* now.\n",
      "If the implementation is hard to explain, it's a bad idea.\n",
      "If the implementation is easy to explain, it may be a good idea.\n",
      "Namespaces are one honking great idea -- let's do more of those!\n"
     ]
    }
   ],
   "source": [
    "import this"
   ]
  },
  {
   "cell_type": "code",
   "execution_count": null,
   "metadata": {},
   "outputs": [],
   "source": []
  }
 ],
 "metadata": {
  "kernelspec": {
   "display_name": "Python 3",
   "language": "python",
   "name": "python3"
  },
  "language_info": {
   "codemirror_mode": {
    "name": "ipython",
    "version": 3
   },
   "file_extension": ".py",
   "mimetype": "text/x-python",
   "name": "python",
   "nbconvert_exporter": "python",
   "pygments_lexer": "ipython3",
   "version": "3.6.5"
  }
 },
 "nbformat": 4,
 "nbformat_minor": 2
}
