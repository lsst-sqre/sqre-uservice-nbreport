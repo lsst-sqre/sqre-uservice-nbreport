{
 "cells": [
  {
   "cell_type": "markdown",
   "metadata": {},
   "source": [
    "# Report title\n",
    "\n",
    "Lorem ipsum dolor amet lumbersexual cold-pressed cardigan listicle intelligentsia offal gluten-free etsy lyft four dollar toast aesthetic flexitarian tote bag typewriter. Jianbing aesthetic semiotics 8-bit, lumbersexual tilde kitsch quinoa gentrify salvia chillwave brooklyn. Live-edge blue bottle VHS shabby chic tote bag tumeric offal intelligentsia, organic edison bulb drinking vinegar leggings. Selvage shabby chic art party meh irony, prism gochujang pour-over 3 wolf moon iceland 90's. [Kickstarter](https://kickstarter.com) microdosing hella farm-to-table. Whatever polaroid art party brooklyn everyday carry beard palo santo blue bottle authentic knausgaard XOXO hoodie gentrify woke mixtape.\n",
    "\n",
    "Fingerstache 3 wolf moon normcore, yr paleo chartreuse roof party sustainable PBR&B organic meggings schlitz chia keytar hexagon. Squid yuccie polaroid, la croix direct trade unicorn copper mug before they sold out actually af meh cred banjo. Vaporware selvage bushwick gluten-free shaman small batch tacos tousled freegan cold-pressed roof party intelligentsia kickstarter art party. Gastropub authentic flannel yuccie cray vinyl offal heirloom. Etsy coloring book forage, next level chillwave snackwave cronut. Shoreditch pork belly wayfarers, knausgaard normcore ugh offal man braid vinyl. Hashtag gochujang live-edge kickstarter narwhal vice, hot chicken iPhone pour-over."
   ]
  },
  {
   "cell_type": "code",
   "execution_count": 1,
   "metadata": {},
   "outputs": [
    {
     "name": "stdout",
     "output_type": "stream",
     "text": [
      "The Zen of Python, by Tim Peters\n",
      "\n",
      "Beautiful is better than ugly.\n",
      "Explicit is better than implicit.\n",
      "Simple is better than complex.\n",
      "Complex is better than complicated.\n",
      "Flat is better than nested.\n",
      "Sparse is better than dense.\n",
      "Readability counts.\n",
      "Special cases aren't special enough to break the rules.\n",
      "Although practicality beats purity.\n",
      "Errors should never pass silently.\n",
      "Unless explicitly silenced.\n",
      "In the face of ambiguity, refuse the temptation to guess.\n",
      "There should be one-- and preferably only one --obvious way to do it.\n",
      "Although that way may not be obvious at first unless you're Dutch.\n",
      "Now is better than never.\n",
      "Although never is often better than *right* now.\n",
      "If the implementation is hard to explain, it's a bad idea.\n",
      "If the implementation is easy to explain, it may be a good idea.\n",
      "Namespaces are one honking great idea -- let's do more of those!\n"
     ]
    }
   ],
   "source": [
    "import this"
   ]
  },
  {
   "cell_type": "markdown",
   "metadata": {},
   "source": [
    "## Abstract\n",
    "\n",
    "Lorem ipsum dolor amet cred cornhole intelligentsia hammock. Aesthetic street art church-key ramps blog. 3 wolf moon ethical snackwave, cloud bread keffiyeh man bun iPhone pour-over gluten-free pug gochujang schlitz forage. Jianbing put a bird on it YOLO, occupy kale chips you probably haven't heard of them leggings hella cred. Blue bottle gochujang beard kale chips live-edge coloring book small batch la croix DIY unicorn vape gluten-free tattooed scenester jianbing. Pitchfork cloud bread raw denim everyday carry."
   ]
  },
  {
   "cell_type": "markdown",
   "metadata": {},
   "source": [
    "## Introduction\n",
    "\n",
    "Ugh shabby chic hella flannel, fixie ramps enamel pin meh. Af pork belly next level chia humblebrag dreamcatcher. Dreamcatcher crucifix drinking vinegar poutine. Knausgaard ennui disrupt deep v put a bird on it pinterest yr mixtape. Vegan live-edge organic bushwick.\n",
    "\n",
    "### Subsection\n",
    "\n",
    "Letterpress edison bulb beard plaid sartorial succulents, photo booth green juice intelligentsia hell of before they sold out thundercats bushwick craft beer. Disrupt mlkshk plaid marfa, freegan tbh kombucha tote bag asymmetrical. Fixie church-key street art, mustache swag ethical tilde four loko gentrify. Farm-to-table everyday carry ugh, cray readymade kogi lyft keytar aesthetic paleo shabby chic. Heirloom chambray cred ugh, taxidermy thundercats poutine yr.\n",
    "\n",
    "Try-hard mlkshk tumeric, literally butcher tote bag stumptown raw denim chillwave banh mi la croix jianbing. Woke man bun tattooed keffiyeh, yuccie fam pinterest. Small batch bespoke venmo art party vape locavore. Jean shorts selvage flexitarian yr poke enamel pin XOXO PBR&B art party cred. Umami kogi put a bird on it beard, lyft banh mi scenester intelligentsia etsy direct trade next level flannel drinking vinegar fam. Hoodie thundercats forage pitchfork, selvage snackwave hammock godard small batch.\n",
    "\n",
    "### Another subsection to demonstrate the sidebar design\n",
    "\n",
    "Freegan shoreditch organic try-hard church-key. Austin seitan cliche, photo booth YOLO direct trade DIY scenester williamsburg ugh cloud bread taxidermy schlitz taiyaki. Paleo mlkshk kickstarter, mixtape YOLO church-key hella freegan cronut. Banh mi tumeric taxidermy kale chips vaporware, knausgaard locavore vinyl air plant. Marfa organic viral cardigan, hot chicken kombucha gochujang williamsburg art party chia leggings. Beard jean shorts glossier, pickled wayfarers locavore sartorial thundercats hexagon meggings fanny pack celiac readymade flexitarian ramps. Cred gluten-free synth DIY deep v ramps freegan polaroid hexagon wayfarers tousled banh mi whatever thundercats."
   ]
  },
  {
   "cell_type": "markdown",
   "metadata": {},
   "source": [
    "## Star Trek Ipsum\n",
    "\n",
    "Run a manual sweep of anomalous airborne or electromagnetic readings. Radiation levels in our atmosphere have increased by 3,000 percent. Electromagnetic and subspace wave fronts approaching synchronization. What is the strength of the ship's deflector shields at maximum output? The wormhole's size and short period would make this a local phenomenon. Do you have sufficient data to compile a holographic simulation?\n",
    "\n",
    "Now what are the possibilities of warp drive? Cmdr Riker's nervous system has been invaded by an unknown microorganism. The organisms fuse to the nerve, intertwining at the molecular level. That's why the transporter's biofilters couldn't extract it. The vertex waves show a K-complex corresponding to an REM state. The engineering section's critical. Destruction is imminent. Their robes contain ultritium, highly explosive, virtually undetectable by your transporter.\n",
    "\n",
    "I have reset the sensors to scan for frequencies outside the usual range. By emitting harmonic vibrations to shatter the lattices. We will monitor and adjust the frequency of the resonators. He has this ability of instantly interpreting and extrapolating any verbal communication he hears. It may be due to the envelope over the structure, causing hydrogen-carbon helix patterns throughout. I'm comparing the molecular integrity of that bubble against our phasers."
   ]
  },
  {
   "cell_type": "markdown",
   "metadata": {},
   "source": [
    "## Let's make a plot"
   ]
  },
  {
   "cell_type": "code",
   "execution_count": 2,
   "metadata": {},
   "outputs": [],
   "source": [
    "%matplotlib inline\n",
    "\n",
    "import matplotlib as mpl\n",
    "import matplotlib.pyplot as plt\n",
    "import numpy as np"
   ]
  },
  {
   "cell_type": "code",
   "execution_count": 4,
   "metadata": {},
   "outputs": [
    {
     "data": {
      "image/png": "[encoded data removed]",
      "text/plain": [
       "<Figure size 432x288 with 1 Axes>"
      ]
     },
     "metadata": {},
     "output_type": "display_data"
    }
   ],
   "source": [
    "# from https://matplotlib.org/gallery/statistics/histogram_features.html\n",
    "\n",
    "np.random.seed(19680801)\n",
    "\n",
    "# example data\n",
    "mu = 100  # mean of distribution\n",
    "sigma = 15  # standard deviation of distribution\n",
    "x = mu + sigma * np.random.randn(437)\n",
    "\n",
    "num_bins = 50\n",
    "\n",
    "fig, ax = plt.subplots()\n",
    "\n",
    "# the histogram of the data\n",
    "n, bins, patches = ax.hist(x, num_bins, density=1)\n",
    "\n",
    "# add a 'best fit' line\n",
    "y = ((1 / (np.sqrt(2 * np.pi) * sigma)) *\n",
    "     np.exp(-0.5 * (1 / sigma * (bins - mu))**2))\n",
    "ax.plot(bins, y, '--')\n",
    "ax.set_xlabel('Smarts')\n",
    "ax.set_ylabel('Probability density')\n",
    "ax.set_title(r'Histogram of IQ: $\\mu=100$, $\\sigma=15$')\n",
    "\n",
    "# Tweak spacing to prevent clipping of ylabel\n",
    "fig.tight_layout()\n",
    "plt.show()"
   ]
  }
 ],
 "metadata": {
  "kernelspec": {
   "display_name": "Python 3",
   "language": "python",
   "name": "python3"
  },
  "language_info": {
   "codemirror_mode": {
    "name": "ipython",
    "version": 3
   },
   "file_extension": ".py",
   "mimetype": "text/x-python",
   "name": "python",
   "nbconvert_exporter": "python",
   "pygments_lexer": "ipython3",
   "version": "3.6.5"
  },
  "nbreport": {
   "cookiecutter": {
    "hsc_i_job_id": "1660",
    "hsc_r_job_id": "1661",
    "jenkins_job": "1163"
   },
   "git_repo": "https://github.com/lsst-sqre/nbreport",
   "git_repo_subdir": "tests/TESTR-000",
   "handle": "TESTR-000",
   "instance_handle": "TESTR-001-1",
   "instance_id": "1",
   "ipynb": "TESTR-000.ipynb",
   "ltd_edition_url": "https://keeper.lsst.codes/editions/1762",
   "ltd_product": "testr-000",
   "ltd_url": "https://keeper.lsst.codes/products/testr-000",
   "published_instance_url": "https://testr-001.lsst.io/v/1",
   "published_url": "https://testr-000.lsst.io",
   "title": "Report title"
  }
 },
 "nbformat": 4,
 "nbformat_minor": 2
}
